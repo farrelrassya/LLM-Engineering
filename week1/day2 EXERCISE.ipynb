{
 "cells": [
  {
   "cell_type": "markdown",
   "id": "d15d8294-3328-4e07-ad16-8a03e9bbfdb9",
   "metadata": {},
   "source": [
    "# Welcome to your first assignment!\n",
    "\n",
    "Instructions are below. Please give this a try, and look in the solutions folder if you get stuck (or feel free to ask me!)"
   ]
  },
  {
   "cell_type": "markdown",
   "id": "ada885d9-4d42-4d9b-97f0-74fbbbfe93a9",
   "metadata": {},
   "source": [
    "<table style=\"margin: 0; text-align: left;\">\n",
    "    <tr>\n",
    "        <td style=\"width: 150px; height: 150px; vertical-align: middle;\">\n",
    "            <img src=\"../resources.jpg\" width=\"150\" height=\"150\" style=\"display: block;\" />\n",
    "        </td>\n",
    "        <td>\n",
    "            <h2 style=\"color:#f71;\">Just before we get to the assignment --</h2>\n",
    "            <span style=\"color:#f71;\">I thought I'd take a second to point you at this page of useful resources for the course. This includes links to all the slides.<br/>\n",
    "            <a href=\"https://edwarddonner.com/2024/11/13/llm-engineering-resources/\">https://edwarddonner.com/2024/11/13/llm-engineering-resources/</a><br/>\n",
    "            Please keep this bookmarked, and I'll continue to add more useful links there over time.\n",
    "            </span>\n",
    "        </td>\n",
    "    </tr>\n",
    "</table>"
   ]
  },
  {
   "cell_type": "markdown",
   "id": "6e9fa1fc-eac5-4d1d-9be4-541b3f2b3458",
   "metadata": {},
   "source": [
    "# HOMEWORK EXERCISE ASSIGNMENT\n",
    "\n",
    "Upgrade the day 1 project to summarize a webpage to use an Open Source model running locally via Ollama rather than OpenAI\n",
    "\n",
    "You'll be able to use this technique for all subsequent projects if you'd prefer not to use paid APIs.\n",
    "\n",
    "**Benefits:**\n",
    "1. No API charges - open-source\n",
    "2. Data doesn't leave your box\n",
    "\n",
    "**Disadvantages:**\n",
    "1. Significantly less power than Frontier Model\n",
    "\n",
    "## Recap on installation of Ollama\n",
    "\n",
    "Simply visit [ollama.com](https://ollama.com) and install!\n",
    "\n",
    "Once complete, the ollama server should already be running locally.  \n",
    "If you visit:  \n",
    "[http://localhost:11434/](http://localhost:11434/)\n",
    "\n",
    "You should see the message `Ollama is running`.  \n",
    "\n",
    "If not, bring up a new Terminal (Mac) or Powershell (Windows) and enter `ollama serve`  \n",
    "And in another Terminal (Mac) or Powershell (Windows), enter `ollama pull llama3.2`  \n",
    "Then try [http://localhost:11434/](http://localhost:11434/) again.\n",
    "\n",
    "If Ollama is slow on your machine, try using `llama3.2:1b` as an alternative. Run `ollama pull llama3.2:1b` from a Terminal or Powershell, and change the code below from `MODEL = \"llama3.2\"` to `MODEL = \"llama3.2:1b\"`"
   ]
  },
  {
   "cell_type": "code",
   "execution_count": 1,
   "id": "4e2a9393-7767-488e-a8bf-27c12dca35bd",
   "metadata": {},
   "outputs": [],
   "source": [
    "# imports\n",
    "\n",
    "import requests\n",
    "from bs4 import BeautifulSoup\n",
    "from IPython.display import Markdown, display"
   ]
  },
  {
   "cell_type": "code",
   "execution_count": 2,
   "id": "29ddd15d-a3c5-4f4e-a678-873f56162724",
   "metadata": {},
   "outputs": [],
   "source": [
    "# Constants\n",
    "\n",
    "OLLAMA_API = \"http://localhost:11434/api/chat\"\n",
    "HEADERS = {\"Content-Type\": \"application/json\"}\n",
    "MODEL = \"llama3.2\""
   ]
  },
  {
   "cell_type": "code",
   "execution_count": 3,
   "id": "dac0a679-599c-441f-9bf2-ddc73d35b940",
   "metadata": {},
   "outputs": [],
   "source": [
    "# Create a messages list using the same format that we used for OpenAI\n",
    "\n",
    "messages = [\n",
    "    {\"role\": \"user\", \"content\": \"Describe some of the business applications of Generative AI\"}\n",
    "]"
   ]
  },
  {
   "cell_type": "code",
   "execution_count": 4,
   "id": "7bb9c624-14f0-4945-a719-8ddb64f66f47",
   "metadata": {},
   "outputs": [],
   "source": [
    "payload = {\n",
    "        \"model\": MODEL,\n",
    "        \"messages\": messages,\n",
    "        \"stream\": False\n",
    "    }"
   ]
  },
  {
   "cell_type": "code",
   "execution_count": 5,
   "id": "42b9f644-522d-4e05-a691-56e7658c0ea9",
   "metadata": {},
   "outputs": [
    {
     "name": "stdout",
     "output_type": "stream",
     "text": [
      "Generative AI has numerous business applications across various industries. Here are some examples:\n",
      "\n",
      "1. **Content Generation**: Generative AI can be used to create high-quality content such as articles, social media posts, product descriptions, and more. This can help businesses save time and resources, while also improving the consistency and quality of their content.\n",
      "2. **Product Design**: Generative AI can be used to design new products, such as cars, furniture, or electronics. This can help businesses accelerate their product development process and reduce costs associated with traditional design methods.\n",
      "3. **Marketing and Advertising**: Generative AI can be used to create personalized marketing campaigns, generate ad copy, and optimize ads for better performance. It can also help analyze customer feedback and sentiment analysis to improve customer service.\n",
      "4. **Customer Service Chatbots**: Generative AI-powered chatbots can be used to provide 24/7 customer support, answer common questions, and route complex issues to human representatives.\n",
      "5. **Language Translation**: Generative AI can be used to translate languages in real-time, helping businesses expand their global presence and communicate with customers across different cultures.\n",
      "6. **Image Generation**: Generative AI can be used to create high-quality images for marketing, advertising, or product visualizations. This can help businesses reduce costs associated with hiring graphic designers and photographers.\n",
      "7. **Data Analysis and Visualization**: Generative AI can be used to analyze large datasets, identify patterns, and visualize insights in a more engaging way. This can help businesses gain deeper insights into their operations and make data-driven decisions.\n",
      "8. **Financial Modeling and Forecasting**: Generative AI can be used to build financial models, forecast revenue, and predict market trends. This can help businesses improve their forecasting accuracy and make more informed investment decisions.\n",
      "9. **Sales Predictive Analytics**: Generative AI can be used to analyze sales data, identify patterns, and predict future sales performance. This can help businesses optimize their sales strategies and improve revenue growth.\n",
      "10. **Innovation and Idea Generation**: Generative AI can be used to generate new ideas, products, and services that meet customer needs and stay ahead of the competition.\n",
      "\n",
      "Some industries that are particularly well-suited for generative AI include:\n",
      "\n",
      "1. **Finance and Banking**: Generative AI can help analyze financial data, predict market trends, and optimize investment portfolios.\n",
      "2. **Healthcare**: Generative AI can be used to develop new treatments, analyze medical images, and improve patient outcomes.\n",
      "3. **Retail**: Generative AI can help personalize customer experiences, optimize inventory management, and reduce supply chain costs.\n",
      "4. **Manufacturing**: Generative AI can be used to design new products, optimize production processes, and predict maintenance needs.\n",
      "5. **Education**: Generative AI can help create personalized learning experiences, develop new curricula, and improve student outcomes.\n",
      "\n",
      "These are just a few examples of the many business applications of generative AI. As the technology continues to evolve, we can expect to see even more innovative use cases across various industries.\n"
     ]
    }
   ],
   "source": [
    "response = requests.post(OLLAMA_API, json=payload, headers=HEADERS)\n",
    "print(response.json()['message']['content'])"
   ]
  },
  {
   "cell_type": "markdown",
   "id": "6a021f13-d6a1-4b96-8e18-4eae49d876fe",
   "metadata": {},
   "source": [
    "# Introducing the ollama package\n",
    "\n",
    "And now we'll do the same thing, but using the elegant ollama python package instead of a direct HTTP call.\n",
    "\n",
    "Under the hood, it's making the same call as above to the ollama server running at localhost:11434"
   ]
  },
  {
   "cell_type": "code",
   "execution_count": 6,
   "id": "7745b9c4-57dc-4867-9180-61fa5db55eb8",
   "metadata": {},
   "outputs": [
    {
     "name": "stdout",
     "output_type": "stream",
     "text": [
      "Generative AI has numerous business applications across various industries. Here are some examples:\n",
      "\n",
      "1. **Content Creation**: Generative AI can generate high-quality content such as images, videos, and text, making it an ideal tool for content creation, marketing, and advertising agencies.\n",
      "2. **Personalized Product Design**: Generative AI can design custom products, such as clothing, furniture, and electronics, by generating multiple designs based on user preferences and input data.\n",
      "3. **Automated Content Writing**: Generative AI can write articles, blog posts, and social media content, saving time and effort for writers and publishers.\n",
      "4. **Chatbots and Virtual Assistants**: Generative AI can create conversational interfaces for chatbots and virtual assistants, improving customer service and support experiences.\n",
      "5. **Data Analysis and Visualization**: Generative AI can analyze large datasets and generate visualizations, such as charts and graphs, to help businesses understand complex data patterns.\n",
      "6. **Predictive Maintenance**: Generative AI can predict equipment failures and maintenance needs, reducing downtime and increasing overall efficiency for industries like manufacturing and healthcare.\n",
      "7. **Customized Customer Experiences**: Generative AI can create personalized customer experiences by generating customized product recommendations, offers, and content based on individual preferences and behavior.\n",
      "8. **Image and Video Editing**: Generative AI can edit images and videos using machine learning algorithms, allowing businesses to enhance their visual content without requiring extensive editing expertise.\n",
      "9. **Music Composition and Generation**: Generative AI can compose music and generate new sounds, making it an ideal tool for music producers, composers, and sound designers.\n",
      "10. **Market Research and Trend Analysis**: Generative AI can analyze market trends and predict future market shifts, helping businesses stay ahead of the competition.\n",
      "11. **Automated Email Marketing**: Generative AI can generate personalized email campaigns, subject lines, and content, improving email marketing effectiveness.\n",
      "12. **Design and Prototyping**: Generative AI can design 3D models, prototypes, and product designs, reducing the need for manual prototyping and improving product development efficiency.\n",
      "\n",
      "These applications are just a few examples of how Generative AI is being used in business to drive innovation, improve efficiency, and enhance customer experiences.\n"
     ]
    }
   ],
   "source": [
    "import ollama\n",
    "\n",
    "response = ollama.chat(model=MODEL, messages=messages)\n",
    "print(response['message']['content'])"
   ]
  },
  {
   "cell_type": "markdown",
   "id": "a4704e10-f5fb-4c15-a935-f046c06fb13d",
   "metadata": {},
   "source": [
    "## Alternative approach - using OpenAI python library to connect to Ollama"
   ]
  },
  {
   "cell_type": "code",
   "execution_count": 7,
   "id": "23057e00-b6fc-4678-93a9-6b31cb704bff",
   "metadata": {},
   "outputs": [
    {
     "name": "stdout",
     "output_type": "stream",
     "text": [
      "Generative AI has numerous business applications across various industries, including:\n",
      "\n",
      "1. **Content Generation**: AI-powered tools can generate high-quality content such as product descriptions, blog posts, social media posts, and more. This helps reduce content creation time and effort while maintaining consistency.\n",
      "2. **Marketing Automation**: Generative AI can be used to create personalized marketing messages, optimize ad copy, and generate new marketing campaigns.\n",
      "3. **Graphic Design and Virtual Styling**: AI-powered design tools can create custom graphics, product images, and virtual models, reducing the need for human designers and increasing efficiency.\n",
      "4. **Data Analysis and Visualization**: Generative AI can analyze large datasets, identify patterns, and create visualizations to help businesses make data-driven decisions.\n",
      "5. **Customer Service Chatbots**: AI-powered chatbots can use generative algorithms to understand customer inquiries and respond accordingly, providing a more personalized experience.\n",
      "6. **Influencer Relationship Management**: Generative AI can be used to identify potential influencers, generate content suggestions, and optimize influencer partnerships.\n",
      "7. **Speech-to-Text Translation**: AI-powered speech recognition tools can translate languages in real-time, reducing the need for human translators.\n",
      "8. **Product Development and Design**: Generative AI can assist in product development by generating new design concepts, testing prototypes, and optimizing product features.\n",
      "9. **Supply Chain Optimization**: Generative AI can analyze supply chain data to identify bottlenecks, optimize routes, and predict demand.\n",
      "10. **Risk Management and Compliance**: AI-powered tools can generate reports, identify potential risks, and aid in compliance monitoring.\n",
      "11. **Predictive Maintenance**: Generative AI can analyze sensor data from machines and equipment to predict maintenance needs, reducing downtime and increasing efficiency.\n",
      "12. **Human Resources**: AI-powered tools can be used to generate job descriptions, optimize employee onboarding processes, and predict employee risk.\n",
      "\n",
      "In addition, generative AI has the potential to revolutionize various industries such as:\n",
      "\n",
      "* Finance: Predictive modeling, credit scoring, and automated reporting\n",
      "* Healthcare: Medical imaging analysis, disease diagnosis, and personalized medicine\n",
      "* Education: Personalized learning platforms, adaptive assessments, and intelligent tutoring systems\n",
      "* Real Estate: Property valuation, market prediction, and home staging\n",
      "\n",
      "These are just a few examples of the many potential applications of generative AI in business.\n"
     ]
    }
   ],
   "source": [
    "# There's actually an alternative approach that some people might prefer\n",
    "# You can use the OpenAI client python library to call Ollama:\n",
    "\n",
    "from openai import OpenAI\n",
    "ollama_via_openai = OpenAI(base_url='http://localhost:11434/v1', api_key='ollama')\n",
    "\n",
    "response = ollama_via_openai.chat.completions.create(\n",
    "    model=MODEL,\n",
    "    messages=messages\n",
    ")\n",
    "\n",
    "print(response.choices[0].message.content)"
   ]
  },
  {
   "cell_type": "markdown",
   "id": "1622d9bb-5c68-4d4e-9ca4-b492c751f898",
   "metadata": {},
   "source": [
    "# NOW the exercise for you\n",
    "\n",
    "Take the code from day1 and incorporate it here, to build a website summarizer that uses Llama 3.2 running locally instead of OpenAI; use either of the above approaches."
   ]
  },
  {
   "cell_type": "code",
   "execution_count": 8,
   "id": "402d5686-4e76-4110-b65a-b3906c35c0a4",
   "metadata": {},
   "outputs": [],
   "source": [
    "# A class to represent a Webpage\n",
    "# If you're not familiar with Classes, check out the \"Intermediate Python\" notebook\n",
    "\n",
    "class Website:\n",
    "\n",
    "    def __init__(self, url):\n",
    "        \"\"\"\n",
    "        Create this Website object from the given url using the BeautifulSoup library\n",
    "        \"\"\"\n",
    "        self.url = url\n",
    "        response = requests.get(url)\n",
    "        soup = BeautifulSoup(response.content, 'html.parser')\n",
    "        self.title = soup.title.string if soup.title else \"No title found\"\n",
    "        for irrelevant in soup.body([\"script\", \"style\", \"img\", \"input\"]):\n",
    "            irrelevant.decompose()\n",
    "        self.text = soup.body.get_text(separator=\"\\n\", strip=True)"
   ]
  },
  {
   "cell_type": "code",
   "execution_count": 9,
   "id": "1068c2ba-b90b-461a-92cb-1b52ad97de06",
   "metadata": {},
   "outputs": [
    {
     "name": "stdout",
     "output_type": "stream",
     "text": [
      "Home - Edward Donner\n",
      "Home\n",
      "Outsmart\n",
      "An arena that pits LLMs against each other in a battle of diplomacy and deviousness\n",
      "About\n",
      "Posts\n",
      "Well, hi there.\n",
      "I’m Ed. I like writing code and experimenting with LLMs, and hopefully you’re here because you do too. I also enjoy DJing (but I’m badly out of practice), amateur electronic music production (\n",
      "very\n",
      "amateur) and losing myself in\n",
      "Hacker News\n",
      ", nodding my head sagely to things I only half understand.\n",
      "I’m the co-founder and CTO of\n",
      "Nebula.io\n",
      ". We’re applying AI to a field where it can make a massive, positive impact: helping people discover their potential and pursue their reason for being. Recruiters use our product today to source, understand, engage and manage talent. I’m previously the founder and CEO of AI startup untapt,\n",
      "acquired in 2021\n",
      ".\n",
      "We work with groundbreaking, proprietary LLMs verticalized for talent, we’ve\n",
      "patented\n",
      "our matching model, and our award-winning platform has happy customers and tons of press coverage.\n",
      "Connect\n",
      "with me for more!\n",
      "November 13, 2024\n",
      "Mastering AI and LLM Engineering – Resources\n",
      "October 16, 2024\n",
      "From Software Engineer to AI Data Scientist – resources\n",
      "August 6, 2024\n",
      "Outsmart LLM Arena – a battle of diplomacy and deviousness\n",
      "June 26, 2024\n",
      "Choosing the Right LLM: Toolkit and Resources\n",
      "Navigation\n",
      "Home\n",
      "Outsmart\n",
      "An arena that pits LLMs against each other in a battle of diplomacy and deviousness\n",
      "About\n",
      "Posts\n",
      "Get in touch\n",
      "ed [at] edwarddonner [dot] com\n",
      "www.edwarddonner.com\n",
      "Follow me\n",
      "LinkedIn\n",
      "Twitter\n",
      "Facebook\n",
      "Subscribe to newsletter\n",
      "Type your email…\n",
      "Subscribe\n"
     ]
    }
   ],
   "source": [
    "# Let's try one out. Change the website and add print statements to follow along.\n",
    "\n",
    "ed = Website(\"https://edwarddonner.com\")\n",
    "print(ed.title)\n",
    "print(ed.text)"
   ]
  },
  {
   "cell_type": "code",
   "execution_count": 10,
   "id": "2da60c55-3851-4d89-b254-d8170d465ce4",
   "metadata": {},
   "outputs": [],
   "source": [
    "# A function that writes a User Prompt that asks for summaries of websites:\n",
    "\n",
    "def user_prompt_for(website):\n",
    "    user_prompt = f\"You are looking at a website titled {website.title}\"\n",
    "    user_prompt += \"\\nThe contents of this website is as follows; \\\n",
    "please provide a short summary of this website in markdown. \\\n",
    "If it includes news or announcements, then summarize these too.\\n\\n\"\n",
    "    user_prompt += website.text\n",
    "    return user_prompt"
   ]
  },
  {
   "cell_type": "code",
   "execution_count": 11,
   "id": "13fc4bab-78ba-47dd-999c-a2366051b231",
   "metadata": {},
   "outputs": [
    {
     "name": "stdout",
     "output_type": "stream",
     "text": [
      "You are looking at a website titled Home - Edward Donner\n",
      "The contents of this website is as follows; please provide a short summary of this website in markdown. If it includes news or announcements, then summarize these too.\n",
      "\n",
      "Home\n",
      "Outsmart\n",
      "An arena that pits LLMs against each other in a battle of diplomacy and deviousness\n",
      "About\n",
      "Posts\n",
      "Well, hi there.\n",
      "I’m Ed. I like writing code and experimenting with LLMs, and hopefully you’re here because you do too. I also enjoy DJing (but I’m badly out of practice), amateur electronic music production (\n",
      "very\n",
      "amateur) and losing myself in\n",
      "Hacker News\n",
      ", nodding my head sagely to things I only half understand.\n",
      "I’m the co-founder and CTO of\n",
      "Nebula.io\n",
      ". We’re applying AI to a field where it can make a massive, positive impact: helping people discover their potential and pursue their reason for being. Recruiters use our product today to source, understand, engage and manage talent. I’m previously the founder and CEO of AI startup untapt,\n",
      "acquired in 2021\n",
      ".\n",
      "We work with groundbreaking, proprietary LLMs verticalized for talent, we’ve\n",
      "patented\n",
      "our matching model, and our award-winning platform has happy customers and tons of press coverage.\n",
      "Connect\n",
      "with me for more!\n",
      "November 13, 2024\n",
      "Mastering AI and LLM Engineering – Resources\n",
      "October 16, 2024\n",
      "From Software Engineer to AI Data Scientist – resources\n",
      "August 6, 2024\n",
      "Outsmart LLM Arena – a battle of diplomacy and deviousness\n",
      "June 26, 2024\n",
      "Choosing the Right LLM: Toolkit and Resources\n",
      "Navigation\n",
      "Home\n",
      "Outsmart\n",
      "An arena that pits LLMs against each other in a battle of diplomacy and deviousness\n",
      "About\n",
      "Posts\n",
      "Get in touch\n",
      "ed [at] edwarddonner [dot] com\n",
      "www.edwarddonner.com\n",
      "Follow me\n",
      "LinkedIn\n",
      "Twitter\n",
      "Facebook\n",
      "Subscribe to newsletter\n",
      "Type your email…\n",
      "Subscribe\n"
     ]
    }
   ],
   "source": [
    "print(user_prompt_for(ed))"
   ]
  },
  {
   "cell_type": "code",
   "execution_count": 12,
   "id": "ce603188-e78c-44c9-995d-78fff2084a56",
   "metadata": {},
   "outputs": [],
   "source": [
    "messages = [\n",
    "    {\"role\": \"system\", \"content\": \"You are a snarky assistant\"},\n",
    "    {\"role\": \"user\", \"content\": \"What is 2 + 2?\"}\n",
    "]"
   ]
  },
  {
   "cell_type": "code",
   "execution_count": 15,
   "id": "247738ee-686f-4c29-8e74-b796960ba863",
   "metadata": {},
   "outputs": [],
   "source": [
    "# Define our system prompt - you can experiment with this later, changing the last sentence to 'Respond in markdown in Spanish.\"\n",
    "\n",
    "system_prompt = \"You are an assistant that analyzes the contents of a website \\\n",
    "and provides a short summary, ignoring text that might be navigation related. \\\n",
    "Respond in markdown.\""
   ]
  },
  {
   "cell_type": "code",
   "execution_count": 16,
   "id": "16a07c68-6f5a-4f51-a42a-602f41c04b55",
   "metadata": {},
   "outputs": [],
   "source": [
    "# A function that writes a User Prompt that asks for summaries of websites:\n",
    "\n",
    "def user_prompt_for(website):\n",
    "    user_prompt = f\"You are looking at a website titled {website.title}\"\n",
    "    user_prompt += \"The contents of this website is as follows; \\\n",
    "please provide a short summary of this website in markdown. \\\n",
    "If it includes news or announcements, then summarize these too.\\n\\n\"\n",
    "    user_prompt += website.text\n",
    "    return user_prompt"
   ]
  },
  {
   "cell_type": "code",
   "execution_count": 17,
   "id": "6410471e-72fc-471d-8546-0b6b89f2c13e",
   "metadata": {},
   "outputs": [],
   "source": [
    "# See how this function creates exactly the format above\n",
    "\n",
    "def messages_for(website):\n",
    "    return [\n",
    "        {\"role\": \"system\", \"content\": system_prompt},\n",
    "        {\"role\": \"user\", \"content\": user_prompt_for(website)}\n",
    "    ]"
   ]
  },
  {
   "cell_type": "code",
   "execution_count": 18,
   "id": "1c9b0e96-8952-43e3-9680-299ec3a85cd6",
   "metadata": {},
   "outputs": [],
   "source": [
    "# And now: call the Ollama function instead of OpenAI\n",
    "\n",
    "def summarize(url):\n",
    "    website = Website(url)\n",
    "    messages = messages_for(website)\n",
    "    response = ollama.chat(model=MODEL, messages=messages)\n",
    "    return response['message']['content']"
   ]
  },
  {
   "cell_type": "code",
   "execution_count": 19,
   "id": "3fcdbd34-5ac6-4660-82ba-97cdb768fe0b",
   "metadata": {},
   "outputs": [
    {
     "data": {
      "text/plain": [
       "\"# Summary of Edward Donner's Website\\n=====================================\\n\\n### About the Founder\\n\\nEdward Donner is a co-founder and CTO of Nebula.io, applying AI to help people discover their potential. He is also the founder and CEO of untapt, an AI startup acquired in 2021.\\n\\n### Recent Announcements and Resources\\n--------------------------------------\\n\\n* **Mastering AI and LLM Engineering – Resources** (November 13, 2024): A collection of resources for learning about AI and LLMs.\\n* **From Software Engineer to AI Data Scientist – resources** (October 16, 2024): Resources for transitioning from a software engineer role to an AI data scientist role.\\n* **Outsmart LLM Arena – a battle of diplomacy and deviousness** (June 26, 2024): A description of the Outsmart arena where LLMs compete against each other in a battle of diplomacy and deviousness.\\n* **Choosing the Right LLM: Toolkit and Resources** (August 6, 2024): Tools and resources for choosing the right LLM.\\n\\n### Miscellaneous\\n---------------\\n\\nThe website features Edward Donner's personal story, including his interests in DJing, amateur electronic music production, and Hacker News. It also includes links to connect with him on social media and subscribe to his newsletter.\""
      ]
     },
     "execution_count": 19,
     "metadata": {},
     "output_type": "execute_result"
    }
   ],
   "source": [
    "summarize(\"https://edwarddonner.com\")"
   ]
  },
  {
   "cell_type": "code",
   "execution_count": 20,
   "id": "6e34e95c-75d3-48d6-a4c6-76feb818ff28",
   "metadata": {},
   "outputs": [],
   "source": [
    "# A function to display this nicely in the Jupyter output, using markdown\n",
    "\n",
    "def display_summary(url):\n",
    "    summary = summarize(url)\n",
    "    display(Markdown(summary))"
   ]
  },
  {
   "cell_type": "code",
   "execution_count": 21,
   "id": "a8a64e31-6fb3-46f2-85aa-47a7c38d5b54",
   "metadata": {},
   "outputs": [
    {
     "data": {
      "text/markdown": [
       "# Website Summary\n",
       "\n",
       "## About the Owner\n",
       "Edward Donner is a tech enthusiast who enjoys writing code, experimenting with Large Language Models (LLMs), and DJing. He is the co-founder and CTO of Nebula.io, an AI startup that applies AI to help people discover their potential.\n",
       "\n",
       "## Recent News/Announcements\n",
       "\n",
       "* **Mastering AI and LLM Engineering – Resources**: Published on November 13, 2024\n",
       "* **From Software Engineer to AI Data Scientist – resources**: Published on October 16, 2024\n",
       "* **Outsmart LLM Arena – a battle of diplomacy and deviousness**: Published on June 26, 2024\n",
       "\n",
       "## Website Features\n",
       "\n",
       "* **Outsmart LLM Arena**: An arena where LLMs are pitted against each other in a battle of diplomacy and deviousness.\n",
       "* **Patented Matching Model**: Nebula.io's matching model has been patented.\n",
       "\n",
       "## Contact Information\n",
       "Contact Edward Donner at [ed@edwarddonner.com](mailto:ed@edwarddonner.com) or visit his website at [www.edwarddonner.com](http://www.edwarddonner.com)."
      ],
      "text/plain": [
       "<IPython.core.display.Markdown object>"
      ]
     },
     "metadata": {},
     "output_type": "display_data"
    }
   ],
   "source": [
    "display_summary(\"https://edwarddonner.com\")"
   ]
  },
  {
   "cell_type": "code",
   "execution_count": 22,
   "id": "6ae09416-211e-458a-9812-ecb60342d055",
   "metadata": {},
   "outputs": [
    {
     "data": {
      "text/markdown": [
       "It appears that you have provided a large text file containing various articles and news stories from CNN.com. I can help you with summarizing or extracting information from this text, but please let me know what specific task you need assistance with.\n",
       "\n",
       "Here are some options:\n",
       "\n",
       "1. **Summarize the top news stories**: I can summarize the most important news stories from the past 24 hours or over the past week.\n",
       "2. **Extract specific articles**: If you're interested in a particular article, such as one about politics, science, or entertainment, let me know and I can try to extract that article's text for you.\n",
       "3. **Answer questions**: You can ask me questions about the news stories or articles listed, and I'll do my best to provide answers.\n",
       "\n",
       "Please let me know how I can assist you!"
      ],
      "text/plain": [
       "<IPython.core.display.Markdown object>"
      ]
     },
     "metadata": {},
     "output_type": "display_data"
    }
   ],
   "source": [
    "display_summary(\"https://cnn.com\")"
   ]
  },
  {
   "cell_type": "code",
   "execution_count": 23,
   "id": "5c9e85b6-9623-450c-b38a-5916d6588b7a",
   "metadata": {},
   "outputs": [
    {
     "data": {
      "text/markdown": [
       "**Anthropic Website Summary**\n",
       "==========================\n",
       "\n",
       "### Overview\n",
       "\n",
       "Anthropic is an AI safety and research company based in San Francisco.\n",
       "\n",
       "### Research and Products\n",
       "\n",
       "* Claude: a new intelligent AI model, \"Claude 3.5 Sonnet\", is now available.\n",
       "* Core Views on AI Safety: \"When, Why, What, and How\" (announced March 8, 2023).\n",
       "* Constitutional AI: Harmlessness from AI Feedback (research announcement December 15, 2022).\n",
       "\n",
       "### Announcements\n",
       "\n",
       "* Introducing computer use, a new Claude 3.5 Sonnet, and Claude 3.5 Haiku (October 22, 2024).\n",
       "\n",
       "### Company Information\n",
       "\n",
       "* Anthropic is an interdisciplinary team with experience across ML, physics, policy, and product.\n",
       "* Open roles available on the website.\n",
       "\n",
       "### News and Press Inquiries\n",
       "\n",
       "* News articles and press inquiries can be made through the Support page.\n",
       "\n",
       "### Availability and Policies\n",
       "\n",
       "* Terms of Service - Consumer and Commercial versions available.\n",
       "* Privacy Policy and Responsible Disclosure Policy in place."
      ],
      "text/plain": [
       "<IPython.core.display.Markdown object>"
      ]
     },
     "metadata": {},
     "output_type": "display_data"
    }
   ],
   "source": [
    "display_summary(\"https://anthropic.com\")"
   ]
  },
  {
   "cell_type": "code",
   "execution_count": null,
   "id": "278ef111-c6ff-4a6c-a059-cfc7f89c2ded",
   "metadata": {},
   "outputs": [],
   "source": []
  }
 ],
 "metadata": {
  "kernelspec": {
   "display_name": "Python 3 (ipykernel)",
   "language": "python",
   "name": "python3"
  },
  "language_info": {
   "codemirror_mode": {
    "name": "ipython",
    "version": 3
   },
   "file_extension": ".py",
   "mimetype": "text/x-python",
   "name": "python",
   "nbconvert_exporter": "python",
   "pygments_lexer": "ipython3",
   "version": "3.11.11"
  }
 },
 "nbformat": 4,
 "nbformat_minor": 5
}
